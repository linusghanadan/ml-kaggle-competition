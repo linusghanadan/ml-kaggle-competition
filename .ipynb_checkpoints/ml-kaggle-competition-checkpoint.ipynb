{
 "cells": [
  {
   "cell_type": "markdown",
   "id": "aa5a545a",
   "metadata": {
    "papermill": {
     "duration": 0.005051,
     "end_time": "2024-03-22T06:58:50.636820",
     "exception": false,
     "start_time": "2024-03-22T06:58:50.631769",
     "status": "completed"
    },
    "tags": []
   },
   "source": [
    "# Building a predictive model using deep learning to predict dissolved inorganic carbon (DIC) in water samples"
   ]
  },
  {
   "cell_type": "markdown",
   "id": "ddb5bf38",
   "metadata": {
    "papermill": {
     "duration": 0.004374,
     "end_time": "2024-03-22T06:58:50.645983",
     "exception": false,
     "start_time": "2024-03-22T06:58:50.641609",
     "status": "completed"
    },
    "tags": []
   },
   "source": [
    "## Background\n",
    "\n",
    "Using the online platform Kaggle, my machine learning class is having a competition to see who can create the best predictive model. Our task is to build a model that predicts **dissolved inorganic carbon (DIC)** content in water samples based on other ocean chemistry features measured in the sample. Our data set comes from the California Cooperative Oceanic Fisheries Investigations (CalCOFI), an oceanographic and marine ecosystem research program located in California [(link to data set description)](https://calcofi.org/data/oceanographic-data/bottle-database/). All water samples were taken off the California coast."
   ]
  },
  {
   "cell_type": "markdown",
   "id": "aed523bd-1d36-43f5-a531-553ad2736538",
   "metadata": {},
   "source": [
    "## My approach\n",
    "\n",
    "For this competition, I'll be experimenting with deep learning techniques that we have only briefly covered in the class. I'm skeptical that this approach will yield better results than a technique based on decision trees, but I'm curious to gain some experience building artificial neural networks and see how the tuning process compares to the other techniques we have practiced in class."
   ]
  },
  {
   "cell_type": "markdown",
   "id": "10f3f701",
   "metadata": {
    "papermill": {
     "duration": 0.004377,
     "end_time": "2024-03-22T06:58:50.654886",
     "exception": false,
     "start_time": "2024-03-22T06:58:50.650509",
     "status": "completed"
    },
    "tags": []
   },
   "source": [
    "## Setup"
   ]
  },
  {
   "cell_type": "code",
   "execution_count": 21,
   "id": "570b0335",
   "metadata": {
    "_cell_guid": "b1076dfc-b9ad-4769-8c92-a6c4dae69d19",
    "_uuid": "8f2839f25d086af736a60e9eeb907d3b93b6e0e5",
    "papermill": {
     "duration": 13.016035,
     "end_time": "2024-03-22T06:59:03.675508",
     "exception": false,
     "start_time": "2024-03-22T06:58:50.659473",
     "status": "completed"
    },
    "tags": []
   },
   "outputs": [],
   "source": [
    "# load libraries\n",
    "import os\n",
    "import pandas as pd\n",
    "import numpy as np\n",
    "import tensorflow as tf\n",
    "from tensorflow.keras.models import Sequential\n",
    "from tensorflow.keras.layers import Dense, Dropout, Input\n",
    "from tensorflow.keras.optimizers import Adam\n",
    "from tensorflow.keras.regularizers import l1_l2\n",
    "from tensorflow.keras.callbacks import EarlyStopping\n",
    "from keras_tuner import HyperModel, RandomSearch\n",
    "from sklearn.model_selection import KFold\n",
    "import itertools\n",
    "\n",
    "# Set the environment variable to change the log level\n",
    "os.environ['TF_CPP_MIN_LOG_LEVEL'] = '2'  # 0 = default, 1 = no INFO, 2 = no INFO and WARNING, 3 = no INFO, WARNING, and ERROR"
   ]
  },
  {
   "cell_type": "markdown",
   "id": "ac57ad85",
   "metadata": {
    "papermill": {
     "duration": 0.004668,
     "end_time": "2024-03-22T06:59:03.685215",
     "exception": false,
     "start_time": "2024-03-22T06:59:03.680547",
     "status": "completed"
    },
    "tags": []
   },
   "source": [
    "## Import & pre-process training data"
   ]
  },
  {
   "cell_type": "code",
   "execution_count": 22,
   "id": "fb539f0a",
   "metadata": {
    "papermill": {
     "duration": 0.24289,
     "end_time": "2024-03-22T06:59:03.932834",
     "exception": false,
     "start_time": "2024-03-22T06:59:03.689944",
     "status": "completed"
    },
    "tags": []
   },
   "outputs": [
    {
     "name": "stdout",
     "output_type": "stream",
     "text": [
      "<class 'pandas.core.frame.DataFrame'>\n",
      "RangeIndex: 1454 entries, 0 to 1453\n",
      "Data columns (total 19 columns):\n",
      " #   Column             Non-Null Count  Dtype  \n",
      "---  ------             --------------  -----  \n",
      " 0   id                 1454 non-null   int64  \n",
      " 1   lat_dec            1454 non-null   float64\n",
      " 2   lon_dec            1454 non-null   float64\n",
      " 3   no2um              1454 non-null   float64\n",
      " 4   no3um              1454 non-null   float64\n",
      " 5   nh3um              1454 non-null   float64\n",
      " 6   r_temp             1454 non-null   float64\n",
      " 7   r_depth            1454 non-null   int64  \n",
      " 8   r_sal              1454 non-null   float64\n",
      " 9   r_dynht            1454 non-null   float64\n",
      " 10  r_nuts             1454 non-null   float64\n",
      " 11  r_oxy_micromol.kg  1454 non-null   float64\n",
      " 12  unnamed:_12        0 non-null      float64\n",
      " 13  po4um              1454 non-null   float64\n",
      " 14  sio3um             1454 non-null   float64\n",
      " 15  ta1.x              1454 non-null   float64\n",
      " 16  salinity1          1454 non-null   float64\n",
      " 17  temperature_degc   1454 non-null   float64\n",
      " 18  dic                1454 non-null   float64\n",
      "dtypes: float64(17), int64(2)\n",
      "memory usage: 216.0 KB\n",
      "None\n"
     ]
    }
   ],
   "source": [
    "# import training data\n",
    "train_df = pd.read_csv('data/train.csv')\n",
    "train_df.columns = train_df.columns.str.lower().str.replace(' ', '_') # clean column names\n",
    "\n",
    "# inspect data\n",
    "print(train_df.info())"
   ]
  },
  {
   "cell_type": "code",
   "execution_count": 23,
   "id": "0f6dd84f",
   "metadata": {
    "papermill": {
     "duration": 0.014496,
     "end_time": "2024-03-22T06:59:03.952774",
     "exception": false,
     "start_time": "2024-03-22T06:59:03.938278",
     "status": "completed"
    },
    "tags": []
   },
   "outputs": [],
   "source": [
    "# remove 'id' and 'unnamed:_12' columns\n",
    "train_df = train_df.drop(train_df.columns[[0, 12]], axis=1)"
   ]
  },
  {
   "cell_type": "code",
   "execution_count": 24,
   "id": "ca8436b5",
   "metadata": {
    "papermill": {
     "duration": 0.012619,
     "end_time": "2024-03-22T06:59:03.970402",
     "exception": false,
     "start_time": "2024-03-22T06:59:03.957783",
     "status": "completed"
    },
    "tags": []
   },
   "outputs": [],
   "source": [
    "# define feature matrix for training data\n",
    "X_train = train_df.drop('dic', axis=1).values\n",
    "\n",
    "# define target vector for training data\n",
    "y_train = train_df['dic'].values"
   ]
  },
  {
   "cell_type": "markdown",
   "id": "8b989fb7",
   "metadata": {
    "papermill": {
     "duration": 0.004883,
     "end_time": "2024-03-22T06:59:03.980248",
     "exception": false,
     "start_time": "2024-03-22T06:59:03.975365",
     "status": "completed"
    },
    "tags": []
   },
   "source": [
    "## Build & train model"
   ]
  },
  {
   "cell_type": "code",
   "execution_count": 25,
   "id": "28eacb28",
   "metadata": {
    "papermill": {
     "duration": 0.016562,
     "end_time": "2024-03-22T06:59:04.001762",
     "exception": false,
     "start_time": "2024-03-22T06:59:03.985200",
     "status": "completed"
    },
    "tags": []
   },
   "outputs": [],
   "source": [
    "# initialize new HyperModel object\n",
    "class MyHyperModel:\n",
    "    \n",
    "    def build(self, hp):\n",
    "        model = Sequential()\n",
    "        \n",
    "        # add dense layer with ReLU (based on preliminary training results)\n",
    "        model.add(Dense(units=hp['neurons_0'], # tune units (number of neurons)\n",
    "                        activation='relu', # select ReLU activator (based on preliminary training results)\n",
    "                        kernel_regularizer=l1_l2(l1=0.01, l2=0.01))) # set L1 and L2\n",
    "        \n",
    "        # add dense layer with ELU activator (based on preliminary training results)\n",
    "        model.add(Dense(units=hp['neurons_0'], # tune units (number of neurons)\n",
    "                        activation='elu', # select ELU activator (based on preliminary training results)\n",
    "                        kernel_regularizer=l1_l2(l1=0.01, l2=0.01))) # set L1 and L2\n",
    "        \n",
    "        # add dropout layer\n",
    "        model.add(Dropout(rate=hp['dropout_1'])) # tune dropout rate\n",
    "\n",
    "        # add additional dense layer(s)\n",
    "        for i in range(1, hp['num_layers']):\n",
    "            model.add(Dense(units=hp['neurons_0'], # tune units (number of neurons)\n",
    "                            activation=hp['activation'], # tune activation function\n",
    "                            kernel_regularizer=l1_l2(l1=0.01, l2=0.01))) # set L1 and L2\n",
    "        \n",
    "        # add output layer with linear activation\n",
    "        model.add(Dense(1, activation='linear', kernel_regularizer=l1_l2(l1=0.01, l2=0.01)))\n",
    "        \n",
    "        # configure tuning for optimizer\n",
    "        optimizer = Adam(learning_rate=hp['learning_rate'], beta_1=hp['beta_1'])\n",
    "        \n",
    "        # compile hypermodel and set MSE as loss function\n",
    "        model.compile(optimizer=optimizer, loss='mean_squared_error')\n",
    "        \n",
    "        return model\n",
    "    \n",
    "# store HyperModel object with specified input shape based on number of columns in feature matrix\n",
    "hypermodel = MyHyperModel()"
   ]
  },
  {
   "cell_type": "code",
   "execution_count": 26,
   "id": "0ae2d19e",
   "metadata": {
    "papermill": {
     "duration": 0.013299,
     "end_time": "2024-03-22T06:59:04.020063",
     "exception": false,
     "start_time": "2024-03-22T06:59:04.006764",
     "status": "completed"
    },
    "tags": []
   },
   "outputs": [],
   "source": [
    "# create hyperparameter grid for tuning\n",
    "hyperparameter_grid = {\n",
    "    'neurons_0': [128],\n",
    "    'dropout_1': [0.0],\n",
    "    'num_layers': [2],\n",
    "    'activation': ['elu'],\n",
    "    'learning_rate': [1e-3],\n",
    "    'beta_1': [0.8]\n",
    "}\n",
    "\n",
    "# define function that creates all combinations of values stored in a dictionary\n",
    "def generate_combinations(grid):\n",
    "    keys, values = zip(*grid.items())\n",
    "    combinations = [dict(zip(keys, v)) for v in itertools.product(*values)]\n",
    "    return combinations\n",
    "\n",
    "# store all combinations of hyperparameter values from grid\n",
    "combinations = generate_combinations(hyperparameter_grid)"
   ]
  },
  {
   "cell_type": "code",
   "execution_count": 27,
   "id": "ae1cd7e0",
   "metadata": {
    "papermill": {
     "duration": 0.015724,
     "end_time": "2024-03-22T06:59:04.040857",
     "exception": false,
     "start_time": "2024-03-22T06:59:04.025133",
     "status": "completed"
    },
    "tags": []
   },
   "outputs": [],
   "source": [
    "# create EarlyStopping object to use when tuning hypermodel\n",
    "early_stopping = EarlyStopping(\n",
    "    monitor='loss', # monitor loss function\n",
    "    min_delta=0.1, # set minimum decrease in loss function to be read as improvement\n",
    "    patience=10, # stop trial early if no improvement over 10 iterations\n",
    "    verbose=0, # disable verbose\n",
    "    mode='min', # specify that objective is to minimize function being monitored\n",
    "    restore_best_weights=True) # after early stopping, revert model weights to those from the epoch with the best value of the monitored metric\n",
    "\n",
    "# define custom function for performing a CV trial\n",
    "def cross_validate_combination(X, y, combination):\n",
    "    kf = KFold(n_splits=5) # initialize CV fold with 5 splits\n",
    "    val_scores = [] # initialize empty vector for validation scores\n",
    "    \n",
    "    for train_index, val_index in kf.split(X):\n",
    "        \n",
    "        # build model with combination of hyperparameters\n",
    "        model = hypermodel.build(combination)\n",
    "        \n",
    "        # build CV fold (with 10 splits) using all of training data\n",
    "        X_train_fold, X_val_fold = X[train_index], X[val_index]\n",
    "        y_train_fold, y_val_fold = y[train_index], y[val_index]\n",
    "        \n",
    "        # fit model to CV fold\n",
    "        model.fit(X_train_fold,\n",
    "                  y_train_fold,\n",
    "                  callbacks=[early_stopping], # use early stopping\n",
    "                  epochs=50, # set number of epochs for each trial\n",
    "                  verbose=0) # disable verbose\n",
    "        \n",
    "        # evaluate model performance\n",
    "        val_score = model.evaluate(X_val_fold,\n",
    "                                   y_val_fold,\n",
    "                                   verbose=0)\n",
    "        val_scores.append(val_score)\n",
    "    \n",
    "    # return average validation score across all 10 splits of CV fold\n",
    "    return np.mean(val_scores)\n",
    "\n",
    "# initialize objects for storing best CV score and best hyperparameter combination\n",
    "best_score = float('inf')\n",
    "best_combination = None"
   ]
  },
  {
   "cell_type": "code",
   "execution_count": 28,
   "id": "81ca641e",
   "metadata": {
    "papermill": {
     "duration": 22.482018,
     "end_time": "2024-03-22T06:59:26.527998",
     "exception": false,
     "start_time": "2024-03-22T06:59:04.045980",
     "status": "completed"
    },
    "tags": []
   },
   "outputs": [
    {
     "name": "stdout",
     "output_type": "stream",
     "text": [
      "Best Hyperparameters: {'neurons_0': 128, 'dropout_1': 0.0, 'num_layers': 2, 'activation': 'elu', 'learning_rate': 0.001, 'beta_1': 0.8}\n",
      "Best Score: 150.6020065307617\n"
     ]
    }
   ],
   "source": [
    "# determine best hyperparameter combination based on CV score\n",
    "for combination in combinations:\n",
    "    score = cross_validate_combination(X_train,\n",
    "                                       y_train,\n",
    "                                       combination)\n",
    "    if score < best_score:\n",
    "        best_score = score\n",
    "        best_combination = combination\n",
    "print(\"Best Hyperparameters:\", best_combination)\n",
    "print(\"Best Score:\", best_score)"
   ]
  },
  {
   "cell_type": "code",
   "execution_count": 29,
   "id": "434ba4d7",
   "metadata": {
    "papermill": {
     "duration": 17.961954,
     "end_time": "2024-03-22T06:59:44.495634",
     "exception": false,
     "start_time": "2024-03-22T06:59:26.533680",
     "status": "completed"
    },
    "tags": []
   },
   "outputs": [
    {
     "name": "stdout",
     "output_type": "stream",
     "text": [
      "Restoring model weights from the end of the best epoch: 37.\n",
      "Epoch 137: early stopping\n"
     ]
    },
    {
     "data": {
      "text/plain": [
       "<keras.callbacks.History at 0x7f22f5884850>"
      ]
     },
     "execution_count": 29,
     "metadata": {},
     "output_type": "execute_result"
    }
   ],
   "source": [
    "# create EarlyStopping object to use when finalizing fit\n",
    "early_stopping_final = EarlyStopping(\n",
    "    monitor='loss', # monitor loss function\n",
    "    min_delta=0.1, # set minimum decrease in loss function to be read as improvement\n",
    "    patience=100, # stop trial early if no improvement over 100 iterations\n",
    "    verbose=1, # enable verbose\n",
    "    mode='min', # specify that objective is to minimize function being monitored\n",
    "    restore_best_weights=True) # after early stopping, revert model weights to those from the epoch with the best value of the monitored metric\n",
    "\n",
    "# build version of hypermodel with best combination of hyperparameters\n",
    "best_model = hypermodel.build(best_combination)\n",
    "\n",
    "# fit model to training data\n",
    "best_model.fit(X_train,\n",
    "               y_train,\n",
    "               callbacks=[early_stopping_final],\n",
    "               epochs=500,\n",
    "               verbose=0)"
   ]
  },
  {
   "cell_type": "code",
   "execution_count": 30,
   "id": "35627a7f-a0e5-431d-b58b-a4f2cb6fad03",
   "metadata": {
    "tags": []
   },
   "outputs": [
    {
     "name": "stdout",
     "output_type": "stream",
     "text": [
      "Total loss (MSE for all training data): 90.12106323242188\n"
     ]
    }
   ],
   "source": [
    "loss = best_model.evaluate(X_train, y_train, verbose=0)\n",
    "print(f\"Total loss (MSE for all training data): {loss}\")"
   ]
  },
  {
   "cell_type": "markdown",
   "id": "8c9531cd",
   "metadata": {
    "papermill": {
     "duration": 0.053503,
     "end_time": "2024-03-22T06:59:44.604048",
     "exception": false,
     "start_time": "2024-03-22T06:59:44.550545",
     "status": "completed"
    },
    "tags": []
   },
   "source": [
    "## Import & process testing data"
   ]
  },
  {
   "cell_type": "code",
   "execution_count": 32,
   "id": "a9401795",
   "metadata": {
    "papermill": {
     "duration": 0.074882,
     "end_time": "2024-03-22T06:59:44.732533",
     "exception": false,
     "start_time": "2024-03-22T06:59:44.657651",
     "status": "completed"
    },
    "tags": []
   },
   "outputs": [],
   "source": [
    "# import testing data\n",
    "test_df = pd.read_csv('data/test.csv')\n",
    "test_df.columns = test_df.columns.str.lower().str.replace(' ', '_') # clean column names\n",
    "\n",
    "# remove 'id' and 'unnamed:_12' columns\n",
    "test_df = test_df.drop(test_df.columns[[0]], axis=1)\n",
    "\n",
    "# define feature matrix for testing data\n",
    "X_test = test_df\n"
   ]
  },
  {
   "cell_type": "markdown",
   "id": "7aff310e",
   "metadata": {
    "papermill": {
     "duration": 0.053266,
     "end_time": "2024-03-22T06:59:44.838959",
     "exception": false,
     "start_time": "2024-03-22T06:59:44.785693",
     "status": "completed"
    },
    "tags": []
   },
   "source": [
    "## Predict DIC for testing data & export submission"
   ]
  },
  {
   "cell_type": "code",
   "execution_count": 34,
   "id": "0b93deb0",
   "metadata": {
    "papermill": {
     "duration": 0.570591,
     "end_time": "2024-03-22T06:59:45.462905",
     "exception": false,
     "start_time": "2024-03-22T06:59:44.892314",
     "status": "completed"
    },
    "tags": []
   },
   "outputs": [
    {
     "name": "stdout",
     "output_type": "stream",
     "text": [
      "16/16 [==============================] - 0s 2ms/step\n"
     ]
    }
   ],
   "source": [
    "# generate predictions for testing data\n",
    "predictions = best_model.predict(X_test)\n",
    "\n",
    "# import submission template\n",
    "submission_df = pd.read_csv('data/sample_submission.csv')\n",
    "submission_df.columns = submission_df.columns.str.lower().str.replace(' ', '_')\n",
    "\n",
    "# bind predictions to 'dic' column\n",
    "submission_df['dic'] = predictions"
   ]
  },
  {
   "cell_type": "code",
   "execution_count": 12,
   "id": "daeebee6",
   "metadata": {
    "execution": {
     "iopub.execute_input": "2024-03-22T06:59:45.578628Z",
     "iopub.status.busy": "2024-03-22T06:59:45.578342Z",
     "iopub.status.idle": "2024-03-22T06:59:45.585163Z",
     "shell.execute_reply": "2024-03-22T06:59:45.584481Z"
    },
    "papermill": {
     "duration": 0.064654,
     "end_time": "2024-03-22T06:59:45.586999",
     "exception": false,
     "start_time": "2024-03-22T06:59:45.522345",
     "status": "completed"
    },
    "tags": []
   },
   "outputs": [],
   "source": [
    "# export submission\n",
    "# submission_df.to_csv('submission.csv', index=False)"
   ]
  }
 ],
 "metadata": {
  "kaggle": {
   "accelerator": "gpu",
   "dataSources": [
    {
     "databundleVersionId": 7941592,
     "sourceId": 72460,
     "sourceType": "competition"
    }
   ],
   "dockerImageVersionId": 30674,
   "isGpuEnabled": true,
   "isInternetEnabled": true,
   "language": "python",
   "sourceType": "notebook"
  },
  "kernelspec": {
   "display_name": "Python 3 (ipykernel)",
   "language": "python",
   "name": "python3"
  },
  "language_info": {
   "codemirror_mode": {
    "name": "ipython",
    "version": 3
   },
   "file_extension": ".py",
   "mimetype": "text/x-python",
   "name": "python",
   "nbconvert_exporter": "python",
   "pygments_lexer": "ipython3",
   "version": "3.7.13"
  },
  "papermill": {
   "default_parameters": {},
   "duration": 60.126621,
   "end_time": "2024-03-22T06:59:48.117913",
   "environment_variables": {},
   "exception": null,
   "input_path": "__notebook__.ipynb",
   "output_path": "__notebook__.ipynb",
   "parameters": {},
   "start_time": "2024-03-22T06:58:47.991292",
   "version": "2.5.0"
  }
 },
 "nbformat": 4,
 "nbformat_minor": 5
}
