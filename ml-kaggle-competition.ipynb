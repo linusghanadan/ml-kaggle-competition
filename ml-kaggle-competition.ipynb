{
 "cells": [
  {
   "cell_type": "markdown",
   "id": "931e1d19-1ce5-4691-98e3-49b5d0f58988",
   "metadata": {},
   "source": [
    "## Background\n",
    "\n",
    "You will use the data contained in the train.csv file to train a model that will predict **dissolved inorganic carbon (DIC)** content in the water samples."
   ]
  },
  {
   "cell_type": "code",
   "execution_count": 48,
   "id": "61266060-25da-43e3-ae3d-18179610ef67",
   "metadata": {
    "tags": []
   },
   "outputs": [],
   "source": [
    "import pandas as pd\n",
    "import numpy as np\n",
    "import matplotlib.pyplot as plt\n",
    "import seaborn as sns\n",
    "from sklearn.preprocessing import StandardScaler\n",
    "from sklearn.model_selection import cross_val_score, KFold\n",
    "import tensorflow.keras.backend as K\n",
    "from tensorflow.keras.models import Sequential\n",
    "from tensorflow.keras.layers import Dense\n",
    "from tensorflow.keras.optimizers import Adam\n",
    "from scikeras.wrappers import KerasRegressor"
   ]
  },
  {
   "cell_type": "code",
   "execution_count": 12,
   "id": "2b400281-4d1f-4dde-9570-02d83b6e2a42",
   "metadata": {
    "tags": []
   },
   "outputs": [],
   "source": [
    "# Turn off scientific notation\n",
    "pd.set_option('display.float_format', lambda x: '%.3f' % x)\n",
    "\n",
    "# Set seed\n",
    "np.random.seed(123)\n"
   ]
  },
  {
   "cell_type": "code",
   "execution_count": 13,
   "id": "bd63faaa-3be6-4ad9-afb1-f181c2c01bce",
   "metadata": {
    "tags": []
   },
   "outputs": [
    {
     "name": "stdout",
     "output_type": "stream",
     "text": [
      "<class 'pandas.core.frame.DataFrame'>\n",
      "RangeIndex: 1454 entries, 0 to 1453\n",
      "Data columns (total 19 columns):\n",
      " #   Column             Non-Null Count  Dtype  \n",
      "---  ------             --------------  -----  \n",
      " 0   id                 1454 non-null   int64  \n",
      " 1   lat_dec            1454 non-null   float64\n",
      " 2   lon_dec            1454 non-null   float64\n",
      " 3   no2um              1454 non-null   float64\n",
      " 4   no3um              1454 non-null   float64\n",
      " 5   nh3um              1454 non-null   float64\n",
      " 6   r_temp             1454 non-null   float64\n",
      " 7   r_depth            1454 non-null   int64  \n",
      " 8   r_sal              1454 non-null   float64\n",
      " 9   r_dynht            1454 non-null   float64\n",
      " 10  r_nuts             1454 non-null   float64\n",
      " 11  r_oxy_micromol.kg  1454 non-null   float64\n",
      " 12  unnamed:_12        0 non-null      float64\n",
      " 13  po4um              1454 non-null   float64\n",
      " 14  sio3um             1454 non-null   float64\n",
      " 15  ta1.x              1454 non-null   float64\n",
      " 16  salinity1          1454 non-null   float64\n",
      " 17  temperature_degc   1454 non-null   float64\n",
      " 18  dic                1454 non-null   float64\n",
      "dtypes: float64(17), int64(2)\n",
      "memory usage: 216.0 KB\n",
      "None\n"
     ]
    }
   ],
   "source": [
    "# Import data\n",
    "train_df = pd.read_csv('data/train.csv')\n",
    "train_df.columns = train_df.columns.str.lower().str.replace(' ', '_')\n",
    "\n",
    "# Data exploration\n",
    "print(train_df.info())"
   ]
  },
  {
   "cell_type": "code",
   "execution_count": 14,
   "id": "eda986be-bb6b-46ce-a61c-73280b2f9fc7",
   "metadata": {
    "tags": []
   },
   "outputs": [
    {
     "data": {
      "image/png": "[encoded data removed]",
      "text/plain": [
       "<Figure size 640x480 with 1 Axes>"
      ]
     },
     "metadata": {},
     "output_type": "display_data"
    }
   ],
   "source": [
    "# Check distribution of outcome variable\n",
    "sns.histplot(train_df['dic'], kde=False)\n",
    "plt.show()\n"
   ]
  },
  {
   "cell_type": "markdown",
   "id": "29c979c5-4b42-42e2-a9ab-8f45bf357cca",
   "metadata": {},
   "source": [
    "## Preprocess"
   ]
  },
  {
   "cell_type": "code",
   "execution_count": 15,
   "id": "94680030-8307-4849-ad23-6173599e0393",
   "metadata": {
    "tags": []
   },
   "outputs": [],
   "source": [
    "# Remove 'id' and 'unnamed:_12' columns (for reasons specified above)\n",
    "train_df = train_df.drop(['id', 'unnamed:_12'], axis=1)"
   ]
  },
  {
   "cell_type": "code",
   "execution_count": 16,
   "id": "90ccbb1c-1898-415d-bb2f-9e38e142cc81",
   "metadata": {
    "tags": []
   },
   "outputs": [],
   "source": [
    "# define feature matrix\n",
    "X = train_df.drop('dic', axis=1).values\n",
    "\n",
    "# define target vector\n",
    "y = train_df['dic'].values\n",
    "\n",
    "# normalize features\n",
    "scaler = StandardScaler()\n",
    "X_scaled = scaler.fit_transform(X)\n",
    "\n",
    "# split data into training and validation sets\n",
    "X_train, X_val, y_train, y_val = train_test_split(X_scaled, y, test_size=0.2, random_state=42)"
   ]
  },
  {
   "cell_type": "markdown",
   "id": "bd4ebd6b-d3ed-4b44-8f8d-9ef78203374d",
   "metadata": {},
   "source": [
    "## Build & train model"
   ]
  },
  {
   "cell_type": "code",
   "execution_count": 21,
   "id": "1e28e219-38b0-41c5-8447-c3db446c04a9",
   "metadata": {
    "tags": []
   },
   "outputs": [],
   "source": [
    "# define model architecture\n",
    "model = Sequential([\n",
    "    Dense(64, activation='relu', input_shape=(X_train.shape[1],)),\n",
    "    Dense(64, activation='relu'),\n",
    "    Dense(1)])"
   ]
  },
  {
   "cell_type": "code",
   "execution_count": 37,
   "id": "330e2c7f-41f9-4e39-842d-1422c97f3a5c",
   "metadata": {
    "tags": []
   },
   "outputs": [],
   "source": [
    "# Define a custom RMSE loss function\n",
    "def rmse(y_true, y_pred):\n",
    "    return K.sqrt(K.mean(K.square(y_pred - y_true), axis=-1))"
   ]
  },
  {
   "cell_type": "code",
   "execution_count": 38,
   "id": "c5b74070-3b05-4549-af3c-c0fdbb6eb2e6",
   "metadata": {
    "tags": []
   },
   "outputs": [],
   "source": [
    "# Compile the model\n",
    "model.compile(optimizer=Adam(learning_rate=0.001),\n",
    "              loss=rmse)"
   ]
  },
  {
   "cell_type": "code",
   "execution_count": 39,
   "id": "9bd29ef3-8ad4-4324-bd0c-44bc0f915ec1",
   "metadata": {
    "tags": []
   },
   "outputs": [
    {
     "name": "stdout",
     "output_type": "stream",
     "text": [
      "Epoch 1/100\n",
      "73/73 [==============================] - 1s 6ms/step - loss: 117.4749 - val_loss: 111.1145\n",
      "Epoch 2/100\n",
      "73/73 [==============================] - 0s 5ms/step - loss: 107.6572 - val_loss: 102.9010\n",
      "Epoch 3/100\n",
      "73/73 [==============================] - 0s 5ms/step - loss: 99.9658 - val_loss: 95.0037\n",
      "Epoch 4/100\n",
      "73/73 [==============================] - 0s 5ms/step - loss: 91.8921 - val_loss: 88.4561\n",
      "Epoch 5/100\n",
      "73/73 [==============================] - 0s 5ms/step - loss: 85.5182 - val_loss: 81.9313\n",
      "Epoch 6/100\n",
      "73/73 [==============================] - 0s 5ms/step - loss: 79.8557 - val_loss: 78.8925\n",
      "Epoch 7/100\n",
      "73/73 [==============================] - 0s 5ms/step - loss: 76.3914 - val_loss: 74.8964\n",
      "Epoch 8/100\n",
      "73/73 [==============================] - 0s 4ms/step - loss: 72.1254 - val_loss: 73.3021\n",
      "Epoch 9/100\n",
      "73/73 [==============================] - 0s 4ms/step - loss: 70.5754 - val_loss: 69.2074\n",
      "Epoch 10/100\n",
      "73/73 [==============================] - 0s 4ms/step - loss: 67.3079 - val_loss: 67.9002\n",
      "Epoch 11/100\n",
      "73/73 [==============================] - 0s 5ms/step - loss: 65.7038 - val_loss: 66.5462\n",
      "Epoch 12/100\n",
      "73/73 [==============================] - 0s 4ms/step - loss: 63.5733 - val_loss: 64.3675\n",
      "Epoch 13/100\n",
      "73/73 [==============================] - 0s 4ms/step - loss: 61.2621 - val_loss: 62.7079\n",
      "Epoch 14/100\n",
      "73/73 [==============================] - 0s 4ms/step - loss: 60.2231 - val_loss: 58.9330\n",
      "Epoch 15/100\n",
      "73/73 [==============================] - 0s 4ms/step - loss: 58.1485 - val_loss: 58.7980\n",
      "Epoch 16/100\n",
      "73/73 [==============================] - 0s 4ms/step - loss: 56.5806 - val_loss: 56.4125\n",
      "Epoch 17/100\n",
      "73/73 [==============================] - 0s 4ms/step - loss: 54.5958 - val_loss: 54.5121\n",
      "Epoch 18/100\n",
      "73/73 [==============================] - 0s 4ms/step - loss: 53.0856 - val_loss: 54.1896\n",
      "Epoch 19/100\n",
      "73/73 [==============================] - 0s 4ms/step - loss: 51.4468 - val_loss: 51.6848\n",
      "Epoch 20/100\n",
      "73/73 [==============================] - 0s 4ms/step - loss: 50.6754 - val_loss: 50.2752\n",
      "Epoch 21/100\n",
      "73/73 [==============================] - 0s 5ms/step - loss: 49.8291 - val_loss: 49.9204\n",
      "Epoch 22/100\n",
      "73/73 [==============================] - 0s 4ms/step - loss: nan - val_loss: nan\n",
      "Epoch 23/100\n",
      "73/73 [==============================] - 0s 5ms/step - loss: nan - val_loss: nan\n",
      "Epoch 24/100\n",
      "73/73 [==============================] - 0s 5ms/step - loss: nan - val_loss: nan\n",
      "Epoch 25/100\n",
      "73/73 [==============================] - 0s 5ms/step - loss: nan - val_loss: nan\n",
      "Epoch 26/100\n",
      "73/73 [==============================] - 0s 4ms/step - loss: nan - val_loss: nan\n",
      "Epoch 27/100\n",
      "73/73 [==============================] - 0s 4ms/step - loss: nan - val_loss: nan\n",
      "Epoch 28/100\n",
      "73/73 [==============================] - 0s 4ms/step - loss: nan - val_loss: nan\n",
      "Epoch 29/100\n",
      "73/73 [==============================] - 0s 4ms/step - loss: nan - val_loss: nan\n",
      "Epoch 30/100\n",
      "73/73 [==============================] - 0s 4ms/step - loss: nan - val_loss: nan\n",
      "Epoch 31/100\n",
      "73/73 [==============================] - 0s 5ms/step - loss: nan - val_loss: nan\n",
      "Epoch 32/100\n",
      "73/73 [==============================] - 0s 5ms/step - loss: nan - val_loss: nan\n",
      "Epoch 33/100\n",
      "73/73 [==============================] - 0s 5ms/step - loss: nan - val_loss: nan\n",
      "Epoch 34/100\n",
      "73/73 [==============================] - 0s 5ms/step - loss: nan - val_loss: nan\n",
      "Epoch 35/100\n",
      "73/73 [==============================] - 0s 5ms/step - loss: nan - val_loss: nan\n",
      "Epoch 36/100\n",
      "73/73 [==============================] - 0s 5ms/step - loss: nan - val_loss: nan\n",
      "Epoch 37/100\n",
      "73/73 [==============================] - 0s 5ms/step - loss: nan - val_loss: nan\n",
      "Epoch 38/100\n",
      "73/73 [==============================] - 0s 5ms/step - loss: nan - val_loss: nan\n",
      "Epoch 39/100\n",
      "73/73 [==============================] - 0s 5ms/step - loss: nan - val_loss: nan\n",
      "Epoch 40/100\n",
      "73/73 [==============================] - 0s 5ms/step - loss: nan - val_loss: nan\n",
      "Epoch 41/100\n",
      "73/73 [==============================] - 0s 5ms/step - loss: nan - val_loss: nan\n",
      "Epoch 42/100\n",
      "73/73 [==============================] - 0s 5ms/step - loss: nan - val_loss: nan\n",
      "Epoch 43/100\n",
      "73/73 [==============================] - 0s 5ms/step - loss: nan - val_loss: nan\n",
      "Epoch 44/100\n",
      "73/73 [==============================] - 0s 5ms/step - loss: nan - val_loss: nan\n",
      "Epoch 45/100\n",
      "73/73 [==============================] - 0s 5ms/step - loss: nan - val_loss: nan\n",
      "Epoch 46/100\n",
      "73/73 [==============================] - 0s 5ms/step - loss: nan - val_loss: nan\n",
      "Epoch 47/100\n",
      "73/73 [==============================] - 0s 5ms/step - loss: nan - val_loss: nan\n",
      "Epoch 48/100\n",
      "73/73 [==============================] - 0s 5ms/step - loss: nan - val_loss: nan\n",
      "Epoch 49/100\n",
      "73/73 [==============================] - 0s 5ms/step - loss: nan - val_loss: nan\n",
      "Epoch 50/100\n",
      "73/73 [==============================] - 0s 5ms/step - loss: nan - val_loss: nan\n",
      "Epoch 51/100\n",
      "73/73 [==============================] - 0s 5ms/step - loss: nan - val_loss: nan\n",
      "Epoch 52/100\n",
      "73/73 [==============================] - 0s 5ms/step - loss: nan - val_loss: nan\n",
      "Epoch 53/100\n",
      "73/73 [==============================] - 0s 5ms/step - loss: nan - val_loss: nan\n",
      "Epoch 54/100\n",
      "73/73 [==============================] - 0s 5ms/step - loss: nan - val_loss: nan\n",
      "Epoch 55/100\n",
      "73/73 [==============================] - 0s 5ms/step - loss: nan - val_loss: nan\n",
      "Epoch 56/100\n",
      "73/73 [==============================] - 0s 5ms/step - loss: nan - val_loss: nan\n",
      "Epoch 57/100\n",
      "73/73 [==============================] - 0s 5ms/step - loss: nan - val_loss: nan\n",
      "Epoch 58/100\n",
      "73/73 [==============================] - 0s 4ms/step - loss: nan - val_loss: nan\n",
      "Epoch 59/100\n",
      "73/73 [==============================] - 0s 5ms/step - loss: nan - val_loss: nan\n",
      "Epoch 60/100\n",
      "73/73 [==============================] - 0s 5ms/step - loss: nan - val_loss: nan\n",
      "Epoch 61/100\n",
      "73/73 [==============================] - 0s 5ms/step - loss: nan - val_loss: nan\n",
      "Epoch 62/100\n",
      "73/73 [==============================] - 0s 5ms/step - loss: nan - val_loss: nan\n",
      "Epoch 63/100\n",
      "73/73 [==============================] - 0s 5ms/step - loss: nan - val_loss: nan\n",
      "Epoch 64/100\n",
      "73/73 [==============================] - 0s 5ms/step - loss: nan - val_loss: nan\n",
      "Epoch 65/100\n",
      "73/73 [==============================] - 0s 5ms/step - loss: nan - val_loss: nan\n",
      "Epoch 66/100\n",
      "73/73 [==============================] - 0s 5ms/step - loss: nan - val_loss: nan\n",
      "Epoch 67/100\n",
      "73/73 [==============================] - 0s 5ms/step - loss: nan - val_loss: nan\n",
      "Epoch 68/100\n",
      "73/73 [==============================] - 0s 5ms/step - loss: nan - val_loss: nan\n",
      "Epoch 69/100\n",
      "73/73 [==============================] - 0s 5ms/step - loss: nan - val_loss: nan\n",
      "Epoch 70/100\n",
      "73/73 [==============================] - 0s 5ms/step - loss: nan - val_loss: nan\n",
      "Epoch 71/100\n",
      "73/73 [==============================] - 0s 5ms/step - loss: nan - val_loss: nan\n",
      "Epoch 72/100\n",
      "73/73 [==============================] - 0s 5ms/step - loss: nan - val_loss: nan\n",
      "Epoch 73/100\n",
      "73/73 [==============================] - 0s 5ms/step - loss: nan - val_loss: nan\n",
      "Epoch 74/100\n",
      "73/73 [==============================] - 0s 5ms/step - loss: nan - val_loss: nan\n",
      "Epoch 75/100\n",
      "73/73 [==============================] - 0s 5ms/step - loss: nan - val_loss: nan\n",
      "Epoch 76/100\n",
      "73/73 [==============================] - 0s 5ms/step - loss: nan - val_loss: nan\n",
      "Epoch 77/100\n",
      "73/73 [==============================] - 0s 5ms/step - loss: nan - val_loss: nan\n",
      "Epoch 78/100\n",
      "73/73 [==============================] - 0s 5ms/step - loss: nan - val_loss: nan\n",
      "Epoch 79/100\n",
      "73/73 [==============================] - 0s 5ms/step - loss: nan - val_loss: nan\n",
      "Epoch 80/100\n",
      "73/73 [==============================] - 0s 5ms/step - loss: nan - val_loss: nan\n",
      "Epoch 81/100\n",
      "73/73 [==============================] - 0s 5ms/step - loss: nan - val_loss: nan\n",
      "Epoch 82/100\n",
      "73/73 [==============================] - 0s 5ms/step - loss: nan - val_loss: nan\n",
      "Epoch 83/100\n",
      "73/73 [==============================] - 0s 5ms/step - loss: nan - val_loss: nan\n",
      "Epoch 84/100\n",
      "73/73 [==============================] - 0s 5ms/step - loss: nan - val_loss: nan\n",
      "Epoch 85/100\n",
      "73/73 [==============================] - 0s 5ms/step - loss: nan - val_loss: nan\n",
      "Epoch 86/100\n",
      "73/73 [==============================] - 0s 5ms/step - loss: nan - val_loss: nan\n",
      "Epoch 87/100\n",
      "73/73 [==============================] - 0s 5ms/step - loss: nan - val_loss: nan\n",
      "Epoch 88/100\n",
      "73/73 [==============================] - 0s 5ms/step - loss: nan - val_loss: nan\n",
      "Epoch 89/100\n",
      "73/73 [==============================] - 0s 5ms/step - loss: nan - val_loss: nan\n",
      "Epoch 90/100\n",
      "73/73 [==============================] - 0s 5ms/step - loss: nan - val_loss: nan\n",
      "Epoch 91/100\n",
      "73/73 [==============================] - 0s 5ms/step - loss: nan - val_loss: nan\n",
      "Epoch 92/100\n",
      "73/73 [==============================] - 0s 5ms/step - loss: nan - val_loss: nan\n",
      "Epoch 93/100\n",
      "73/73 [==============================] - 0s 5ms/step - loss: nan - val_loss: nan\n",
      "Epoch 94/100\n",
      "73/73 [==============================] - 0s 5ms/step - loss: nan - val_loss: nan\n",
      "Epoch 95/100\n",
      "73/73 [==============================] - 0s 5ms/step - loss: nan - val_loss: nan\n",
      "Epoch 96/100\n",
      "73/73 [==============================] - 0s 5ms/step - loss: nan - val_loss: nan\n",
      "Epoch 97/100\n",
      "73/73 [==============================] - 0s 5ms/step - loss: nan - val_loss: nan\n",
      "Epoch 98/100\n",
      "73/73 [==============================] - 0s 5ms/step - loss: nan - val_loss: nan\n",
      "Epoch 99/100\n",
      "73/73 [==============================] - 0s 5ms/step - loss: nan - val_loss: nan\n",
      "Epoch 100/100\n",
      "73/73 [==============================] - 0s 5ms/step - loss: nan - val_loss: nan\n"
     ]
    }
   ],
   "source": [
    "# Train the model\n",
    "model_fit = model.fit(X_train, y_train,\n",
    "                    epochs=100,  # Example: Increase the number of epochs\n",
    "                    batch_size=16,  # Example: Decrease the batch size for more updates\n",
    "                    validation_data=(X_val, y_val),\n",
    "                    verbose=1)"
   ]
  },
  {
   "cell_type": "code",
   "execution_count": 40,
   "id": "89e09fa0-1f15-41f8-8268-47f3042bebcf",
   "metadata": {
    "tags": []
   },
   "outputs": [
    {
     "ename": "NameError",
     "evalue": "name 'X_test' is not defined",
     "output_type": "error",
     "traceback": [
      "\u001b[0;31m---------------------------------------------------------------------------\u001b[0m",
      "\u001b[0;31mNameError\u001b[0m                                 Traceback (most recent call last)",
      "\u001b[0;32m/tmp/ipykernel_1058943/4082205777.py\u001b[0m in \u001b[0;36m<module>\u001b[0;34m\u001b[0m\n\u001b[1;32m      1\u001b[0m \u001b[0;31m# Evaluate the model on the test data\u001b[0m\u001b[0;34m\u001b[0m\u001b[0;34m\u001b[0m\u001b[0;34m\u001b[0m\u001b[0m\n\u001b[0;32m----> 2\u001b[0;31m \u001b[0mtest_loss\u001b[0m\u001b[0;34m,\u001b[0m \u001b[0mtest_metric\u001b[0m \u001b[0;34m=\u001b[0m \u001b[0mmodel\u001b[0m\u001b[0;34m.\u001b[0m\u001b[0mevaluate\u001b[0m\u001b[0;34m(\u001b[0m\u001b[0mX_test\u001b[0m\u001b[0;34m,\u001b[0m \u001b[0my_test\u001b[0m\u001b[0;34m,\u001b[0m \u001b[0mverbose\u001b[0m\u001b[0;34m=\u001b[0m\u001b[0;36m1\u001b[0m\u001b[0;34m)\u001b[0m\u001b[0;34m\u001b[0m\u001b[0;34m\u001b[0m\u001b[0m\n\u001b[0m",
      "\u001b[0;31mNameError\u001b[0m: name 'X_test' is not defined"
     ]
    }
   ],
   "source": [
    "# Evaluate the model on the test data\n",
    "test_loss, test_metric = model.evaluate(X_test, y_test, verbose=1)"
   ]
  },
  {
   "cell_type": "code",
   "execution_count": 49,
   "id": "8dca5b92-1d0d-45fb-94fb-66c9cd5de293",
   "metadata": {
    "tags": []
   },
   "outputs": [],
   "source": [
    "def create_model():\n",
    "    model = Sequential([\n",
    "        Dense(64, activation='relu', input_shape=(X_train.shape[1],)),\n",
    "        Dense(64, activation='relu'),\n",
    "        Dense(1)\n",
    "    ])\n",
    "    model.compile(optimizer=Adam(learning_rate=0.001),\n",
    "                  loss=rmse)\n",
    "    return model"
   ]
  },
  {
   "cell_type": "code",
   "execution_count": 50,
   "id": "116d5c67-19b1-4afb-bcd2-89fa2cd45b47",
   "metadata": {
    "tags": []
   },
   "outputs": [],
   "source": [
    "model = KerasRegressor(build_fn=create_model, epochs=100, batch_size=16, verbose=0)"
   ]
  },
  {
   "cell_type": "code",
   "execution_count": null,
   "id": "9a0e02b8-9135-45af-ad84-a5e036db947d",
   "metadata": {
    "tags": []
   },
   "outputs": [
    {
     "name": "stderr",
     "output_type": "stream",
     "text": [
      "/Users/linusghanadan/.local/lib/python3.7/site-packages/scikeras/wrappers.py:302: UserWarning: ``build_fn`` will be renamed to ``model`` in a future release, at which point use of ``build_fn`` will raise an Error instead.\n",
      "  \"``build_fn`` will be renamed to ``model`` in a future release,\"\n",
      "/Users/linusghanadan/.local/lib/python3.7/site-packages/scikeras/wrappers.py:302: UserWarning: ``build_fn`` will be renamed to ``model`` in a future release, at which point use of ``build_fn`` will raise an Error instead.\n",
      "  \"``build_fn`` will be renamed to ``model`` in a future release,\"\n",
      "/Users/linusghanadan/.local/lib/python3.7/site-packages/scikeras/wrappers.py:302: UserWarning: ``build_fn`` will be renamed to ``model`` in a future release, at which point use of ``build_fn`` will raise an Error instead.\n",
      "  \"``build_fn`` will be renamed to ``model`` in a future release,\"\n"
     ]
    }
   ],
   "source": [
    "# Define the K-Fold cross-validator\n",
    "kfold = KFold(n_splits=5, shuffle=True, random_state=42)\n",
    "\n",
    "# Perform cross-validation\n",
    "results = cross_val_score(model, X_train, y_train, cv=kfold, scoring='neg_mean_squared_error')\n",
    "\n",
    "# Convert scores to positive values\n",
    "results = np.sqrt(-results)\n",
    "print(\"RMSE: %.2f (+/- %.2f)\" % (results.mean(), results.std()))\n"
   ]
  },
  {
   "cell_type": "code",
   "execution_count": null,
   "id": "115f2d19-caf7-4436-8ab4-7cba5fc25568",
   "metadata": {},
   "outputs": [],
   "source": []
  }
 ],
 "metadata": {
  "kernelspec": {
   "display_name": "Python 3 (ipykernel)",
   "language": "python",
   "name": "python3"
  },
  "language_info": {
   "codemirror_mode": {
    "name": "ipython",
    "version": 3
   },
   "file_extension": ".py",
   "mimetype": "text/x-python",
   "name": "python",
   "nbconvert_exporter": "python",
   "pygments_lexer": "ipython3",
   "version": "3.7.13"
  }
 },
 "nbformat": 4,
 "nbformat_minor": 5
}
